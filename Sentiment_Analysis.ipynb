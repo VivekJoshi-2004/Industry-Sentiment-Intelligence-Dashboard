{
 "cells": [
  {
   "cell_type": "markdown",
   "id": "f1013a7e",
   "metadata": {},
   "source": [
    "Load and Explore the Dataset"
   ]
  },
  {
   "cell_type": "code",
   "execution_count": 3,
   "id": "6fb59f9e",
   "metadata": {},
   "outputs": [
    {
     "data": {
      "text/html": [
       "<div>\n",
       "<style scoped>\n",
       "    .dataframe tbody tr th:only-of-type {\n",
       "        vertical-align: middle;\n",
       "    }\n",
       "\n",
       "    .dataframe tbody tr th {\n",
       "        vertical-align: top;\n",
       "    }\n",
       "\n",
       "    .dataframe thead th {\n",
       "        text-align: right;\n",
       "    }\n",
       "</style>\n",
       "<table border=\"1\" class=\"dataframe\">\n",
       "  <thead>\n",
       "    <tr style=\"text-align: right;\">\n",
       "      <th></th>\n",
       "      <th>link</th>\n",
       "      <th>headline</th>\n",
       "      <th>category</th>\n",
       "      <th>short_description</th>\n",
       "      <th>authors</th>\n",
       "      <th>date</th>\n",
       "    </tr>\n",
       "  </thead>\n",
       "  <tbody>\n",
       "    <tr>\n",
       "      <th>0</th>\n",
       "      <td>https://www.huffpost.com/entry/covid-boosters-...</td>\n",
       "      <td>Over 4 Million Americans Roll Up Sleeves For O...</td>\n",
       "      <td>U.S. NEWS</td>\n",
       "      <td>Health experts said it is too early to predict...</td>\n",
       "      <td>Carla K. Johnson, AP</td>\n",
       "      <td>2022-09-23</td>\n",
       "    </tr>\n",
       "    <tr>\n",
       "      <th>1</th>\n",
       "      <td>https://www.huffpost.com/entry/american-airlin...</td>\n",
       "      <td>American Airlines Flyer Charged, Banned For Li...</td>\n",
       "      <td>U.S. NEWS</td>\n",
       "      <td>He was subdued by passengers and crew when he ...</td>\n",
       "      <td>Mary Papenfuss</td>\n",
       "      <td>2022-09-23</td>\n",
       "    </tr>\n",
       "    <tr>\n",
       "      <th>2</th>\n",
       "      <td>https://www.huffpost.com/entry/funniest-tweets...</td>\n",
       "      <td>23 Of The Funniest Tweets About Cats And Dogs ...</td>\n",
       "      <td>COMEDY</td>\n",
       "      <td>\"Until you have a dog you don't understand wha...</td>\n",
       "      <td>Elyse Wanshel</td>\n",
       "      <td>2022-09-23</td>\n",
       "    </tr>\n",
       "    <tr>\n",
       "      <th>3</th>\n",
       "      <td>https://www.huffpost.com/entry/funniest-parent...</td>\n",
       "      <td>The Funniest Tweets From Parents This Week (Se...</td>\n",
       "      <td>PARENTING</td>\n",
       "      <td>\"Accidentally put grown-up toothpaste on my to...</td>\n",
       "      <td>Caroline Bologna</td>\n",
       "      <td>2022-09-23</td>\n",
       "    </tr>\n",
       "    <tr>\n",
       "      <th>4</th>\n",
       "      <td>https://www.huffpost.com/entry/amy-cooper-lose...</td>\n",
       "      <td>Woman Who Called Cops On Black Bird-Watcher Lo...</td>\n",
       "      <td>U.S. NEWS</td>\n",
       "      <td>Amy Cooper accused investment firm Franklin Te...</td>\n",
       "      <td>Nina Golgowski</td>\n",
       "      <td>2022-09-22</td>\n",
       "    </tr>\n",
       "  </tbody>\n",
       "</table>\n",
       "</div>"
      ],
      "text/plain": [
       "                                                link  \\\n",
       "0  https://www.huffpost.com/entry/covid-boosters-...   \n",
       "1  https://www.huffpost.com/entry/american-airlin...   \n",
       "2  https://www.huffpost.com/entry/funniest-tweets...   \n",
       "3  https://www.huffpost.com/entry/funniest-parent...   \n",
       "4  https://www.huffpost.com/entry/amy-cooper-lose...   \n",
       "\n",
       "                                            headline   category  \\\n",
       "0  Over 4 Million Americans Roll Up Sleeves For O...  U.S. NEWS   \n",
       "1  American Airlines Flyer Charged, Banned For Li...  U.S. NEWS   \n",
       "2  23 Of The Funniest Tweets About Cats And Dogs ...     COMEDY   \n",
       "3  The Funniest Tweets From Parents This Week (Se...  PARENTING   \n",
       "4  Woman Who Called Cops On Black Bird-Watcher Lo...  U.S. NEWS   \n",
       "\n",
       "                                   short_description               authors  \\\n",
       "0  Health experts said it is too early to predict...  Carla K. Johnson, AP   \n",
       "1  He was subdued by passengers and crew when he ...        Mary Papenfuss   \n",
       "2  \"Until you have a dog you don't understand wha...         Elyse Wanshel   \n",
       "3  \"Accidentally put grown-up toothpaste on my to...      Caroline Bologna   \n",
       "4  Amy Cooper accused investment firm Franklin Te...        Nina Golgowski   \n",
       "\n",
       "         date  \n",
       "0  2022-09-23  \n",
       "1  2022-09-23  \n",
       "2  2022-09-23  \n",
       "3  2022-09-23  \n",
       "4  2022-09-22  "
      ]
     },
     "execution_count": 3,
     "metadata": {},
     "output_type": "execute_result"
    }
   ],
   "source": [
    "import pandas as pd\n",
    "import json\n",
    "\n",
    "# Load JSON dataset line-by-line\n",
    "data = []\n",
    "with open(r\"C:\\Datasets for projects\\News_Category_Dataset_v3.json\") as f:\n",
    "    for line in f:\n",
    "        data.append(json.loads(line))\n",
    "\n",
    "# Convert to pandas DataFrame\n",
    "df = pd.DataFrame(data)\n",
    "\n",
    "# Show first few rows\n",
    "df.head()"
   ]
  },
  {
   "cell_type": "markdown",
   "id": "9494cdfe",
   "metadata": {},
   "source": [
    "Filter and Preprocess the Dataset"
   ]
  },
  {
   "cell_type": "code",
   "execution_count": 4,
   "id": "393938b2",
   "metadata": {},
   "outputs": [
    {
     "name": "stdout",
     "output_type": "stream",
     "text": [
      "Filtered dataset size: (11316, 4)\n"
     ]
    },
    {
     "data": {
      "text/html": [
       "<div>\n",
       "<style scoped>\n",
       "    .dataframe tbody tr th:only-of-type {\n",
       "        vertical-align: middle;\n",
       "    }\n",
       "\n",
       "    .dataframe tbody tr th {\n",
       "        vertical-align: top;\n",
       "    }\n",
       "\n",
       "    .dataframe thead th {\n",
       "        text-align: right;\n",
       "    }\n",
       "</style>\n",
       "<table border=\"1\" class=\"dataframe\">\n",
       "  <thead>\n",
       "    <tr style=\"text-align: right;\">\n",
       "      <th></th>\n",
       "      <th>category</th>\n",
       "      <th>headline</th>\n",
       "      <th>short_description</th>\n",
       "      <th>text</th>\n",
       "    </tr>\n",
       "  </thead>\n",
       "  <tbody>\n",
       "    <tr>\n",
       "      <th>0</th>\n",
       "      <td>TECH</td>\n",
       "      <td>Twitch Bans Gambling Sites After Streamer Scam...</td>\n",
       "      <td>One man's claims that he scammed people on the...</td>\n",
       "      <td>Twitch Bans Gambling Sites After Streamer Scam...</td>\n",
       "    </tr>\n",
       "    <tr>\n",
       "      <th>1</th>\n",
       "      <td>TECH</td>\n",
       "      <td>TikTok Search Results Riddled With Misinformat...</td>\n",
       "      <td>A U.S. firm that monitors false online claims ...</td>\n",
       "      <td>TikTok Search Results Riddled With Misinformat...</td>\n",
       "    </tr>\n",
       "    <tr>\n",
       "      <th>2</th>\n",
       "      <td>EDUCATION</td>\n",
       "      <td>Cyberattack Prompts Los Angeles School Distric...</td>\n",
       "      <td>Such attacks have become a growing threat to U...</td>\n",
       "      <td>Cyberattack Prompts Los Angeles School Distric...</td>\n",
       "    </tr>\n",
       "    <tr>\n",
       "      <th>3</th>\n",
       "      <td>TECH</td>\n",
       "      <td>Citing Imminent Danger Cloudflare Drops Hate S...</td>\n",
       "      <td>Cloudflare CEO Matthew Prince had previously r...</td>\n",
       "      <td>Citing Imminent Danger Cloudflare Drops Hate S...</td>\n",
       "    </tr>\n",
       "    <tr>\n",
       "      <th>4</th>\n",
       "      <td>SCIENCE</td>\n",
       "      <td>Fuel Leak Ruins NASA's 2nd Shot At Launching N...</td>\n",
       "      <td>Part of the space agency's Artemis program, th...</td>\n",
       "      <td>Fuel Leak Ruins NASA's 2nd Shot At Launching N...</td>\n",
       "    </tr>\n",
       "  </tbody>\n",
       "</table>\n",
       "</div>"
      ],
      "text/plain": [
       "    category                                           headline  \\\n",
       "0       TECH  Twitch Bans Gambling Sites After Streamer Scam...   \n",
       "1       TECH  TikTok Search Results Riddled With Misinformat...   \n",
       "2  EDUCATION  Cyberattack Prompts Los Angeles School Distric...   \n",
       "3       TECH  Citing Imminent Danger Cloudflare Drops Hate S...   \n",
       "4    SCIENCE  Fuel Leak Ruins NASA's 2nd Shot At Launching N...   \n",
       "\n",
       "                                   short_description  \\\n",
       "0  One man's claims that he scammed people on the...   \n",
       "1  A U.S. firm that monitors false online claims ...   \n",
       "2  Such attacks have become a growing threat to U...   \n",
       "3  Cloudflare CEO Matthew Prince had previously r...   \n",
       "4  Part of the space agency's Artemis program, th...   \n",
       "\n",
       "                                                text  \n",
       "0  Twitch Bans Gambling Sites After Streamer Scam...  \n",
       "1  TikTok Search Results Riddled With Misinformat...  \n",
       "2  Cyberattack Prompts Los Angeles School Distric...  \n",
       "3  Citing Imminent Danger Cloudflare Drops Hate S...  \n",
       "4  Fuel Leak Ruins NASA's 2nd Shot At Launching N...  "
      ]
     },
     "execution_count": 4,
     "metadata": {},
     "output_type": "execute_result"
    }
   ],
   "source": [
    "# Keep only relevant columns\n",
    "df = df[['category', 'headline', 'short_description']]\n",
    "\n",
    "# Drop missing values\n",
    "df.dropna(inplace=True)\n",
    "\n",
    "# Filter for startup/business-relevant categories\n",
    "target_categories = ['TECH', 'BUSINESS', 'EDUCATION', 'SCIENCE']\n",
    "\n",
    "df = df[df['category'].isin(target_categories)].copy()\n",
    "\n",
    "# Combine headline and short description\n",
    "df['text'] = df['headline'] + \". \" + df['short_description']\n",
    "\n",
    "# Reset index\n",
    "df.reset_index(drop=True, inplace=True)\n",
    "\n",
    "# Final shape\n",
    "print(\"Filtered dataset size:\", df.shape)\n",
    "df.head()"
   ]
  },
  {
   "cell_type": "markdown",
   "id": "5cfa7691",
   "metadata": {},
   "source": [
    "Sentiment Analysis using VADER"
   ]
  },
  {
   "cell_type": "code",
   "execution_count": 5,
   "id": "a01b9ed5",
   "metadata": {},
   "outputs": [
    {
     "name": "stderr",
     "output_type": "stream",
     "text": [
      "[nltk_data] Downloading package vader_lexicon to\n",
      "[nltk_data]     C:\\Users\\newt4\\AppData\\Roaming\\nltk_data...\n",
      "[nltk_data]   Package vader_lexicon is already up-to-date!\n"
     ]
    }
   ],
   "source": [
    "import nltk\n",
    "from nltk.sentiment.vader import SentimentIntensityAnalyzer\n",
    "\n",
    "# Download VADER lexicon (only once)\n",
    "nltk.download('vader_lexicon')\n",
    "\n",
    "# Create analyzer instance\n",
    "sid = SentimentIntensityAnalyzer()"
   ]
  },
  {
   "cell_type": "code",
   "execution_count": 6,
   "id": "ab1fe620",
   "metadata": {},
   "outputs": [
    {
     "data": {
      "text/html": [
       "<div>\n",
       "<style scoped>\n",
       "    .dataframe tbody tr th:only-of-type {\n",
       "        vertical-align: middle;\n",
       "    }\n",
       "\n",
       "    .dataframe tbody tr th {\n",
       "        vertical-align: top;\n",
       "    }\n",
       "\n",
       "    .dataframe thead th {\n",
       "        text-align: right;\n",
       "    }\n",
       "</style>\n",
       "<table border=\"1\" class=\"dataframe\">\n",
       "  <thead>\n",
       "    <tr style=\"text-align: right;\">\n",
       "      <th></th>\n",
       "      <th>category</th>\n",
       "      <th>text</th>\n",
       "      <th>sentiment</th>\n",
       "    </tr>\n",
       "  </thead>\n",
       "  <tbody>\n",
       "    <tr>\n",
       "      <th>0</th>\n",
       "      <td>TECH</td>\n",
       "      <td>Twitch Bans Gambling Sites After Streamer Scam...</td>\n",
       "      <td>-0.5106</td>\n",
       "    </tr>\n",
       "    <tr>\n",
       "      <th>1</th>\n",
       "      <td>TECH</td>\n",
       "      <td>TikTok Search Results Riddled With Misinformat...</td>\n",
       "      <td>-0.3182</td>\n",
       "    </tr>\n",
       "    <tr>\n",
       "      <th>2</th>\n",
       "      <td>EDUCATION</td>\n",
       "      <td>Cyberattack Prompts Los Angeles School Distric...</td>\n",
       "      <td>-0.6808</td>\n",
       "    </tr>\n",
       "    <tr>\n",
       "      <th>3</th>\n",
       "      <td>TECH</td>\n",
       "      <td>Citing Imminent Danger Cloudflare Drops Hate S...</td>\n",
       "      <td>-0.8750</td>\n",
       "    </tr>\n",
       "    <tr>\n",
       "      <th>4</th>\n",
       "      <td>SCIENCE</td>\n",
       "      <td>Fuel Leak Ruins NASA's 2nd Shot At Launching N...</td>\n",
       "      <td>-0.2975</td>\n",
       "    </tr>\n",
       "  </tbody>\n",
       "</table>\n",
       "</div>"
      ],
      "text/plain": [
       "    category                                               text  sentiment\n",
       "0       TECH  Twitch Bans Gambling Sites After Streamer Scam...    -0.5106\n",
       "1       TECH  TikTok Search Results Riddled With Misinformat...    -0.3182\n",
       "2  EDUCATION  Cyberattack Prompts Los Angeles School Distric...    -0.6808\n",
       "3       TECH  Citing Imminent Danger Cloudflare Drops Hate S...    -0.8750\n",
       "4    SCIENCE  Fuel Leak Ruins NASA's 2nd Shot At Launching N...    -0.2975"
      ]
     },
     "execution_count": 6,
     "metadata": {},
     "output_type": "execute_result"
    }
   ],
   "source": [
    "# Apply VADER sentiment\n",
    "df['sentiment'] = df['text'].apply(lambda x: sid.polarity_scores(x)['compound'])\n",
    "\n",
    "# Show example\n",
    "df[['category', 'text', 'sentiment']].head()"
   ]
  },
  {
   "cell_type": "markdown",
   "id": "26f172fd",
   "metadata": {},
   "source": [
    "Label Sentiment (Positive/Negative/Neutral)"
   ]
  },
  {
   "cell_type": "code",
   "execution_count": 7,
   "id": "4284eeb9",
   "metadata": {},
   "outputs": [
    {
     "data": {
      "text/html": [
       "<div>\n",
       "<style scoped>\n",
       "    .dataframe tbody tr th:only-of-type {\n",
       "        vertical-align: middle;\n",
       "    }\n",
       "\n",
       "    .dataframe tbody tr th {\n",
       "        vertical-align: top;\n",
       "    }\n",
       "\n",
       "    .dataframe thead th {\n",
       "        text-align: right;\n",
       "    }\n",
       "</style>\n",
       "<table border=\"1\" class=\"dataframe\">\n",
       "  <thead>\n",
       "    <tr style=\"text-align: right;\">\n",
       "      <th></th>\n",
       "      <th>category</th>\n",
       "      <th>sentiment</th>\n",
       "      <th>sentiment_label</th>\n",
       "    </tr>\n",
       "  </thead>\n",
       "  <tbody>\n",
       "    <tr>\n",
       "      <th>0</th>\n",
       "      <td>TECH</td>\n",
       "      <td>-0.5106</td>\n",
       "      <td>Negative</td>\n",
       "    </tr>\n",
       "    <tr>\n",
       "      <th>1</th>\n",
       "      <td>TECH</td>\n",
       "      <td>-0.3182</td>\n",
       "      <td>Negative</td>\n",
       "    </tr>\n",
       "    <tr>\n",
       "      <th>2</th>\n",
       "      <td>EDUCATION</td>\n",
       "      <td>-0.6808</td>\n",
       "      <td>Negative</td>\n",
       "    </tr>\n",
       "    <tr>\n",
       "      <th>3</th>\n",
       "      <td>TECH</td>\n",
       "      <td>-0.8750</td>\n",
       "      <td>Negative</td>\n",
       "    </tr>\n",
       "    <tr>\n",
       "      <th>4</th>\n",
       "      <td>SCIENCE</td>\n",
       "      <td>-0.2975</td>\n",
       "      <td>Negative</td>\n",
       "    </tr>\n",
       "  </tbody>\n",
       "</table>\n",
       "</div>"
      ],
      "text/plain": [
       "    category  sentiment sentiment_label\n",
       "0       TECH    -0.5106        Negative\n",
       "1       TECH    -0.3182        Negative\n",
       "2  EDUCATION    -0.6808        Negative\n",
       "3       TECH    -0.8750        Negative\n",
       "4    SCIENCE    -0.2975        Negative"
      ]
     },
     "execution_count": 7,
     "metadata": {},
     "output_type": "execute_result"
    }
   ],
   "source": [
    "def label_sentiment(score):\n",
    "    if score >= 0.05:\n",
    "        return 'Positive'\n",
    "    elif score <= -0.05:\n",
    "        return 'Negative'\n",
    "    else:\n",
    "        return 'Neutral'\n",
    "\n",
    "df['sentiment_label'] = df['sentiment'].apply(label_sentiment)\n",
    "\n",
    "# Show result\n",
    "df[['category', 'sentiment', 'sentiment_label']].head()"
   ]
  },
  {
   "cell_type": "code",
   "execution_count": 8,
   "id": "f9b17ae8",
   "metadata": {},
   "outputs": [
    {
     "name": "stdout",
     "output_type": "stream",
     "text": [
      "sentiment_label\n",
      "Positive    5530\n",
      "Negative    3659\n",
      "Neutral     2127\n",
      "Name: count, dtype: int64\n"
     ]
    }
   ],
   "source": [
    "# Count of each sentiment label\n",
    "sentiment_counts = df['sentiment_label'].value_counts()\n",
    "\n",
    "# Display the counts\n",
    "print(sentiment_counts)"
   ]
  },
  {
   "cell_type": "code",
   "execution_count": 9,
   "id": "178564f7",
   "metadata": {},
   "outputs": [
    {
     "data": {
      "image/png": "[encoded data removed]",
      "text/plain": [
       "<Figure size 600x600 with 1 Axes>"
      ]
     },
     "metadata": {},
     "output_type": "display_data"
    }
   ],
   "source": [
    "import matplotlib.pyplot as plt\n",
    "\n",
    "# Count sentiment labels\n",
    "sentiment_counts = df['sentiment_label'].value_counts()\n",
    "\n",
    "# Pie chart\n",
    "plt.figure(figsize=(6,6))\n",
    "colors = ['#2ecc71', '#f1c40f', '#e74c3c']  # Green, Yellow, Red for Pos, Neut, Neg\n",
    "\n",
    "plt.pie(sentiment_counts.values,\n",
    "        labels=sentiment_counts.index,\n",
    "        autopct='%1.1f%%',\n",
    "        colors=colors,\n",
    "        startangle=140,\n",
    "        explode=[0.05]*len(sentiment_counts))  # Slight explode for all slices\n",
    "\n",
    "plt.title(\" Sentiment Distribution (Pie Chart)\")\n",
    "plt.axis('equal')  # Equal aspect ratio ensures circle shape\n",
    "plt.tight_layout()\n",
    "plt.show()"
   ]
  },
  {
   "cell_type": "markdown",
   "id": "23f62dfe",
   "metadata": {},
   "source": [
    "Aggregate Sector-Wise Sentiment"
   ]
  },
  {
   "cell_type": "code",
   "execution_count": 11,
   "id": "6d8baead",
   "metadata": {},
   "outputs": [
    {
     "data": {
      "text/html": [
       "<div>\n",
       "<style scoped>\n",
       "    .dataframe tbody tr th:only-of-type {\n",
       "        vertical-align: middle;\n",
       "    }\n",
       "\n",
       "    .dataframe tbody tr th {\n",
       "        vertical-align: top;\n",
       "    }\n",
       "\n",
       "    .dataframe thead th {\n",
       "        text-align: right;\n",
       "    }\n",
       "</style>\n",
       "<table border=\"1\" class=\"dataframe\">\n",
       "  <thead>\n",
       "    <tr style=\"text-align: right;\">\n",
       "      <th></th>\n",
       "      <th>category</th>\n",
       "      <th>avg_sentiment</th>\n",
       "      <th>article_count</th>\n",
       "      <th>weighted_index</th>\n",
       "    </tr>\n",
       "  </thead>\n",
       "  <tbody>\n",
       "    <tr>\n",
       "      <th>0</th>\n",
       "      <td>EDUCATION</td>\n",
       "      <td>0.198597</td>\n",
       "      <td>1014</td>\n",
       "      <td>201.3776</td>\n",
       "    </tr>\n",
       "    <tr>\n",
       "      <th>1</th>\n",
       "      <td>SCIENCE</td>\n",
       "      <td>0.106908</td>\n",
       "      <td>2206</td>\n",
       "      <td>235.8400</td>\n",
       "    </tr>\n",
       "    <tr>\n",
       "      <th>2</th>\n",
       "      <td>BUSINESS</td>\n",
       "      <td>0.100178</td>\n",
       "      <td>5992</td>\n",
       "      <td>600.2690</td>\n",
       "    </tr>\n",
       "    <tr>\n",
       "      <th>3</th>\n",
       "      <td>TECH</td>\n",
       "      <td>0.086490</td>\n",
       "      <td>2104</td>\n",
       "      <td>181.9740</td>\n",
       "    </tr>\n",
       "  </tbody>\n",
       "</table>\n",
       "</div>"
      ],
      "text/plain": [
       "    category  avg_sentiment  article_count  weighted_index\n",
       "0  EDUCATION       0.198597           1014        201.3776\n",
       "1    SCIENCE       0.106908           2206        235.8400\n",
       "2   BUSINESS       0.100178           5992        600.2690\n",
       "3       TECH       0.086490           2104        181.9740"
      ]
     },
     "execution_count": 11,
     "metadata": {},
     "output_type": "execute_result"
    }
   ],
   "source": [
    "# Group by category and calculate sentiment stats\n",
    "sentiment_summary = df.groupby('category').agg(\n",
    "    avg_sentiment=('sentiment', 'mean'),\n",
    "    article_count=('text', 'count')\n",
    ")\n",
    "\n",
    "# Add a weighted score: (sentiment × article count)\n",
    "sentiment_summary['weighted_index'] = sentiment_summary['avg_sentiment'] * sentiment_summary['article_count']\n",
    "\n",
    "# Sort by sentiment\n",
    "sentiment_summary = sentiment_summary.sort_values(by='avg_sentiment', ascending=False)\n",
    "\n",
    "# Show result\n",
    "sentiment_summary.reset_index(inplace=True)\n",
    "sentiment_summary"
   ]
  },
  {
   "cell_type": "code",
   "execution_count": 12,
   "id": "e9c57308",
   "metadata": {},
   "outputs": [
    {
     "name": "stderr",
     "output_type": "stream",
     "text": [
      "C:\\Users\\newt4\\AppData\\Local\\Temp\\ipykernel_20288\\2052535181.py:6: FutureWarning: \n",
      "\n",
      "Passing `palette` without assigning `hue` is deprecated and will be removed in v0.14.0. Assign the `x` variable to `hue` and set `legend=False` for the same effect.\n",
      "\n",
      "  sns.barplot(x='category', y='avg_sentiment', data=sentiment_summary, palette='coolwarm')\n"
     ]
    },
    {
     "data": {
      "image/png": "[encoded data removed]",
      "text/plain": [
       "<Figure size 1000x600 with 1 Axes>"
      ]
     },
     "metadata": {},
     "output_type": "display_data"
    }
   ],
   "source": [
    "import seaborn as sns\n",
    "import matplotlib.pyplot as plt\n",
    "\n",
    "# Bar plot of sentiment by sector\n",
    "plt.figure(figsize=(10,6))\n",
    "sns.barplot(x='category', y='avg_sentiment', data=sentiment_summary, palette='coolwarm')\n",
    "plt.title(\" Average Sentiment by Sector\")\n",
    "plt.ylabel(\"Average VADER Compound Score\")\n",
    "plt.xlabel(\"Sector\")\n",
    "plt.axhline(0, color='black', linestyle='--')\n",
    "plt.tight_layout()\n",
    "plt.show()"
   ]
  },
  {
   "cell_type": "markdown",
   "id": "2ea52b97",
   "metadata": {},
   "source": [
    "Load & Clean Company Dataset"
   ]
  },
  {
   "cell_type": "code",
   "execution_count": 13,
   "id": "5ace1d15",
   "metadata": {},
   "outputs": [
    {
     "data": {
      "text/html": [
       "<div>\n",
       "<style scoped>\n",
       "    .dataframe tbody tr th:only-of-type {\n",
       "        vertical-align: middle;\n",
       "    }\n",
       "\n",
       "    .dataframe tbody tr th {\n",
       "        vertical-align: top;\n",
       "    }\n",
       "\n",
       "    .dataframe thead th {\n",
       "        text-align: right;\n",
       "    }\n",
       "</style>\n",
       "<table border=\"1\" class=\"dataframe\">\n",
       "  <thead>\n",
       "    <tr style=\"text-align: right;\">\n",
       "      <th></th>\n",
       "      <th>industry</th>\n",
       "      <th>avg_rating</th>\n",
       "      <th>total_reviews</th>\n",
       "      <th>company_count</th>\n",
       "    </tr>\n",
       "  </thead>\n",
       "  <tbody>\n",
       "    <tr>\n",
       "      <th>82</th>\n",
       "      <td>Dubai +7 more</td>\n",
       "      <td>5.0</td>\n",
       "      <td>337</td>\n",
       "      <td>1</td>\n",
       "    </tr>\n",
       "    <tr>\n",
       "      <th>40</th>\n",
       "      <td>Bangalore Rural +2 more</td>\n",
       "      <td>5.0</td>\n",
       "      <td>89</td>\n",
       "      <td>1</td>\n",
       "    </tr>\n",
       "    <tr>\n",
       "      <th>193</th>\n",
       "      <td>Noida +18 more</td>\n",
       "      <td>4.9</td>\n",
       "      <td>170</td>\n",
       "      <td>1</td>\n",
       "    </tr>\n",
       "    <tr>\n",
       "      <th>29</th>\n",
       "      <td>Ahmedabad</td>\n",
       "      <td>4.9</td>\n",
       "      <td>87</td>\n",
       "      <td>1</td>\n",
       "    </tr>\n",
       "    <tr>\n",
       "      <th>169</th>\n",
       "      <td>Mumbai +2 more</td>\n",
       "      <td>4.8</td>\n",
       "      <td>81</td>\n",
       "      <td>1</td>\n",
       "    </tr>\n",
       "  </tbody>\n",
       "</table>\n",
       "</div>"
      ],
      "text/plain": [
       "                    industry  avg_rating  total_reviews  company_count\n",
       "82             Dubai +7 more         5.0            337              1\n",
       "40   Bangalore Rural +2 more         5.0             89              1\n",
       "193           Noida +18 more         4.9            170              1\n",
       "29                 Ahmedabad         4.9             87              1\n",
       "169           Mumbai +2 more         4.8             81              1"
      ]
     },
     "execution_count": 13,
     "metadata": {},
     "output_type": "execute_result"
    }
   ],
   "source": [
    "import pandas as pd\n",
    "import ast\n",
    "\n",
    "# Force pandas to treat the quoted text as a single cell\n",
    "df = pd.read_csv(r\"C:\\Datasets for projects\\Company_reviews.csv\")\n",
    "\n",
    "# Fix header if needed\n",
    "if df.columns[0] != \"Name\":\n",
    "    df.columns = df.iloc[0]\n",
    "    df = df[1:].copy().reset_index(drop=True)\n",
    "\n",
    "# Rename columns\n",
    "df.columns = ['company_name', 'rating', 'review_count', 'info_list']\n",
    "\n",
    "# Convert data types\n",
    "df['rating'] = df['rating'].astype(float)\n",
    "\n",
    "def convert_reviews(x):\n",
    "    x = str(x).lower().replace(',', '').strip()\n",
    "    if 'k' in x:\n",
    "        return int(float(x.replace('k', '')) * 1000)\n",
    "    elif 'm' in x:\n",
    "        return int(float(x.replace('m', '')) * 1_000_000)\n",
    "    return int(float(x))\n",
    "\n",
    "df['review_count'] = df['review_count'].apply(convert_reviews)\n",
    "\n",
    "# Parse info_list string into list\n",
    "df['info_list'] = df['info_list'].apply(lambda x: ast.literal_eval(x) if isinstance(x, str) else x)\n",
    "\n",
    "# Extract industry from the list\n",
    "df['industry'] = df['info_list'].apply(lambda x: x[0] if isinstance(x, list) and len(x) > 0 else None)\n",
    "\n",
    "# Group by industry\n",
    "industry_summary = df.groupby('industry').agg(\n",
    "    avg_rating=('rating', 'mean'),\n",
    "    total_reviews=('review_count', 'sum'),\n",
    "    company_count=('company_name', 'count')\n",
    ").reset_index().sort_values(by='avg_rating', ascending=False)\n",
    "\n",
    "industry_summary.head()"
   ]
  },
  {
   "cell_type": "code",
   "execution_count": 14,
   "id": "776526e7",
   "metadata": {},
   "outputs": [
    {
     "name": "stdout",
     "output_type": "stream",
     "text": [
      "company_name                                                  TCS\n",
      "rating                                                        3.8\n",
      "review_count                                                71500\n",
      "info_list       [IT Services & Consulting, 1 Lakh+ Employees, ...\n",
      "industry                                 IT Services & Consulting\n",
      "Name: 0, dtype: object\n"
     ]
    }
   ],
   "source": [
    "print(df.iloc[0])"
   ]
  },
  {
   "cell_type": "markdown",
   "id": "e2245326",
   "metadata": {},
   "source": [
    "Add Sentiment Category Column"
   ]
  },
  {
   "cell_type": "code",
   "execution_count": 15,
   "id": "8bf5481a",
   "metadata": {},
   "outputs": [],
   "source": [
    "# Mapping dictionary\n",
    "industry_to_sentiment = {\n",
    "    # TECH\n",
    "    'IT Services & Consulting': 'TECH',\n",
    "    'Internet': 'TECH',\n",
    "    'E-commerce': 'TECH',\n",
    "    'Technology': 'TECH',\n",
    "    'Software Product': 'TECH',\n",
    "    'BPO': 'TECH',\n",
    "    'IT Services': 'TECH',\n",
    "    'Information Technology': 'TECH',\n",
    "    'Telecom': 'TECH',\n",
    "    \n",
    "    # BUSINESS\n",
    "    'Banking': 'BUSINESS',\n",
    "    'NBFC': 'BUSINESS',\n",
    "    'Financial Services': 'BUSINESS',\n",
    "    'Insurance': 'BUSINESS',\n",
    "    'Retail': 'BUSINESS',\n",
    "    'Automobile': 'BUSINESS',\n",
    "    'Real Estate': 'BUSINESS',\n",
    "    'Logistics': 'BUSINESS',\n",
    "    'FMCG': 'BUSINESS',\n",
    "    'Consulting': 'BUSINESS',\n",
    "    'Hospitality': 'BUSINESS',\n",
    "    'Travel & Tourism': 'BUSINESS',\n",
    "    'Construction': 'BUSINESS',\n",
    "    'Aviation': 'BUSINESS',\n",
    "\n",
    "    # SCIENCE\n",
    "    'Pharma': 'SCIENCE',\n",
    "    'Healthcare': 'SCIENCE',\n",
    "    'Biotech': 'SCIENCE',\n",
    "    'Medical Devices': 'SCIENCE',\n",
    "    'Research': 'SCIENCE',\n",
    "    'Energy': 'SCIENCE',\n",
    "\n",
    "    # EDUCATION\n",
    "    'EdTech': 'EDUCATION',\n",
    "    'Education Services': 'EDUCATION',\n",
    "    'E-Learning': 'EDUCATION',\n",
    "    'Training & Certification': 'EDUCATION'\n",
    "}\n",
    "\n",
    "# Map industry → sentiment category\n",
    "df['sentiment_category'] = df['industry'].map(industry_to_sentiment)\n",
    "\n",
    "# Drop rows without mapping\n",
    "df.dropna(subset=['sentiment_category'], inplace=True)"
   ]
  },
  {
   "cell_type": "markdown",
   "id": "c47d1dc4",
   "metadata": {},
   "source": [
    "group by Sentiment Category"
   ]
  },
  {
   "cell_type": "code",
   "execution_count": 16,
   "id": "c2357a53",
   "metadata": {},
   "outputs": [
    {
     "data": {
      "text/html": [
       "<div>\n",
       "<style scoped>\n",
       "    .dataframe tbody tr th:only-of-type {\n",
       "        vertical-align: middle;\n",
       "    }\n",
       "\n",
       "    .dataframe tbody tr th {\n",
       "        vertical-align: top;\n",
       "    }\n",
       "\n",
       "    .dataframe thead th {\n",
       "        text-align: right;\n",
       "    }\n",
       "</style>\n",
       "<table border=\"1\" class=\"dataframe\">\n",
       "  <thead>\n",
       "    <tr style=\"text-align: right;\">\n",
       "      <th></th>\n",
       "      <th>sentiment_category</th>\n",
       "      <th>avg_rating</th>\n",
       "      <th>total_reviews</th>\n",
       "      <th>company_count</th>\n",
       "    </tr>\n",
       "  </thead>\n",
       "  <tbody>\n",
       "    <tr>\n",
       "      <th>0</th>\n",
       "      <td>BUSINESS</td>\n",
       "      <td>3.906067</td>\n",
       "      <td>935413</td>\n",
       "      <td>1500</td>\n",
       "    </tr>\n",
       "    <tr>\n",
       "      <th>2</th>\n",
       "      <td>SCIENCE</td>\n",
       "      <td>3.872644</td>\n",
       "      <td>245635</td>\n",
       "      <td>658</td>\n",
       "    </tr>\n",
       "    <tr>\n",
       "      <th>3</th>\n",
       "      <td>TECH</td>\n",
       "      <td>3.779856</td>\n",
       "      <td>1216929</td>\n",
       "      <td>1951</td>\n",
       "    </tr>\n",
       "    <tr>\n",
       "      <th>1</th>\n",
       "      <td>EDUCATION</td>\n",
       "      <td>3.703759</td>\n",
       "      <td>59651</td>\n",
       "      <td>133</td>\n",
       "    </tr>\n",
       "  </tbody>\n",
       "</table>\n",
       "</div>"
      ],
      "text/plain": [
       "  sentiment_category  avg_rating  total_reviews  company_count\n",
       "0           BUSINESS    3.906067         935413           1500\n",
       "2            SCIENCE    3.872644         245635            658\n",
       "3               TECH    3.779856        1216929           1951\n",
       "1          EDUCATION    3.703759          59651            133"
      ]
     },
     "execution_count": 16,
     "metadata": {},
     "output_type": "execute_result"
    }
   ],
   "source": [
    "sentiment_grouped = df.groupby('sentiment_category').agg(\n",
    "    avg_rating=('rating', 'mean'),\n",
    "    total_reviews=('review_count', 'sum'),\n",
    "    company_count=('company_name', 'count')\n",
    ").reset_index().sort_values(by='avg_rating', ascending=False)\n",
    "\n",
    "sentiment_grouped"
   ]
  },
  {
   "cell_type": "markdown",
   "id": "9f8a33df",
   "metadata": {},
   "source": [
    "Sentiment vs Business Validation — Final Merge & Insights"
   ]
  },
  {
   "cell_type": "markdown",
   "id": "28278233",
   "metadata": {},
   "source": [
    "Merge Both Tables"
   ]
  },
  {
   "cell_type": "code",
   "execution_count": 17,
   "id": "2ad9bbfa",
   "metadata": {},
   "outputs": [
    {
     "data": {
      "text/html": [
       "<div>\n",
       "<style scoped>\n",
       "    .dataframe tbody tr th:only-of-type {\n",
       "        vertical-align: middle;\n",
       "    }\n",
       "\n",
       "    .dataframe tbody tr th {\n",
       "        vertical-align: top;\n",
       "    }\n",
       "\n",
       "    .dataframe thead th {\n",
       "        text-align: right;\n",
       "    }\n",
       "</style>\n",
       "<table border=\"1\" class=\"dataframe\">\n",
       "  <thead>\n",
       "    <tr style=\"text-align: right;\">\n",
       "      <th></th>\n",
       "      <th>sentiment_category</th>\n",
       "      <th>avg_rating</th>\n",
       "      <th>total_reviews</th>\n",
       "      <th>company_count</th>\n",
       "      <th>avg_sentiment</th>\n",
       "      <th>article_count</th>\n",
       "      <th>weighted_index</th>\n",
       "    </tr>\n",
       "  </thead>\n",
       "  <tbody>\n",
       "    <tr>\n",
       "      <th>0</th>\n",
       "      <td>BUSINESS</td>\n",
       "      <td>3.906067</td>\n",
       "      <td>935413</td>\n",
       "      <td>1500</td>\n",
       "      <td>0.100178</td>\n",
       "      <td>5992</td>\n",
       "      <td>600.2690</td>\n",
       "    </tr>\n",
       "    <tr>\n",
       "      <th>1</th>\n",
       "      <td>SCIENCE</td>\n",
       "      <td>3.872644</td>\n",
       "      <td>245635</td>\n",
       "      <td>658</td>\n",
       "      <td>0.106908</td>\n",
       "      <td>2206</td>\n",
       "      <td>235.8400</td>\n",
       "    </tr>\n",
       "    <tr>\n",
       "      <th>2</th>\n",
       "      <td>TECH</td>\n",
       "      <td>3.779856</td>\n",
       "      <td>1216929</td>\n",
       "      <td>1951</td>\n",
       "      <td>0.086490</td>\n",
       "      <td>2104</td>\n",
       "      <td>181.9740</td>\n",
       "    </tr>\n",
       "    <tr>\n",
       "      <th>3</th>\n",
       "      <td>EDUCATION</td>\n",
       "      <td>3.703759</td>\n",
       "      <td>59651</td>\n",
       "      <td>133</td>\n",
       "      <td>0.198597</td>\n",
       "      <td>1014</td>\n",
       "      <td>201.3776</td>\n",
       "    </tr>\n",
       "  </tbody>\n",
       "</table>\n",
       "</div>"
      ],
      "text/plain": [
       "  sentiment_category  avg_rating  total_reviews  company_count  avg_sentiment  \\\n",
       "0           BUSINESS    3.906067         935413           1500       0.100178   \n",
       "1            SCIENCE    3.872644         245635            658       0.106908   \n",
       "2               TECH    3.779856        1216929           1951       0.086490   \n",
       "3          EDUCATION    3.703759          59651            133       0.198597   \n",
       "\n",
       "   article_count  weighted_index  \n",
       "0           5992        600.2690  \n",
       "1           2206        235.8400  \n",
       "2           2104        181.9740  \n",
       "3           1014        201.3776  "
      ]
     },
     "execution_count": 17,
     "metadata": {},
     "output_type": "execute_result"
    }
   ],
   "source": [
    "# Rename to match\n",
    "sentiment_summary = sentiment_summary.rename(columns={'category': 'sentiment_category'})\n",
    "\n",
    "# Merge both dataframes\n",
    "final_df = pd.merge(sentiment_grouped, sentiment_summary, on='sentiment_category', how='inner')\n",
    "final_df = final_df.sort_values(by='avg_rating', ascending=False)\n",
    "\n",
    "final_df"
   ]
  },
  {
   "cell_type": "markdown",
   "id": "a7f7558e",
   "metadata": {},
   "source": [
    "Visualization"
   ]
  },
  {
   "cell_type": "markdown",
   "id": "03378eab",
   "metadata": {},
   "source": [
    "Scatter Plot: Sentiment vs Rating"
   ]
  },
  {
   "cell_type": "code",
   "execution_count": 18,
   "id": "de927638",
   "metadata": {},
   "outputs": [
    {
     "data": {
      "image/png": "[encoded data removed]",
      "text/plain": [
       "<Figure size 1000x600 with 1 Axes>"
      ]
     },
     "metadata": {},
     "output_type": "display_data"
    }
   ],
   "source": [
    "import matplotlib.pyplot as plt\n",
    "import seaborn as sns\n",
    "\n",
    "plt.figure(figsize=(10,6))\n",
    "sns.scatterplot(data=final_df, x='avg_sentiment', y='avg_rating', hue='sentiment_category', s=150)\n",
    "\n",
    "for i in range(len(final_df)):\n",
    "    plt.text(final_df['avg_sentiment'].iloc[i]+0.002, \n",
    "             final_df['avg_rating'].iloc[i]+0.01, \n",
    "             final_df['sentiment_category'].iloc[i], \n",
    "             fontsize=10)\n",
    "\n",
    "plt.title('Sentiment vs Average Company Rating by Industry')\n",
    "plt.xlabel('Average News Sentiment')\n",
    "plt.ylabel('Average Company Rating')\n",
    "plt.grid(True)\n",
    "plt.show()"
   ]
  },
  {
   "cell_type": "markdown",
   "id": "8abf1e18",
   "metadata": {},
   "source": [
    "Bar Plot: Rating & Sentiment Side-by-Side"
   ]
  },
  {
   "cell_type": "code",
   "execution_count": 19,
   "id": "258569aa",
   "metadata": {},
   "outputs": [
    {
     "data": {
      "image/png": "[encoded data removed]",
      "text/plain": [
       "<Figure size 1000x600 with 1 Axes>"
      ]
     },
     "metadata": {},
     "output_type": "display_data"
    }
   ],
   "source": [
    "import pandas as pd\n",
    "import matplotlib.pyplot as plt\n",
    "import numpy as np\n",
    "\n",
    "# Sample data (replace with your real final dataframe)\n",
    "df = pd.DataFrame({\n",
    "    'sentiment_category': ['BUSINESS', 'SCIENCE', 'TECH', 'EDUCATION'],\n",
    "    'avg_rating': [3.91, 3.87, 3.78, 3.70],\n",
    "    'avg_sentiment': [0.10, 0.11, 0.09, 0.20]\n",
    "})\n",
    "\n",
    "# Normalize avg_rating to 0–0.5\n",
    "rating_min, rating_max = (df['avg_rating'].min()-0.1), df['avg_rating'].max()\n",
    "df['norm_rating'] = (df['avg_rating'] - rating_min) / (rating_max - rating_min) * 0.5\n",
    "\n",
    "# Plot\n",
    "x = np.arange(len(df))\n",
    "width = 0.35\n",
    "\n",
    "plt.figure(figsize=(10,6))\n",
    "plt.bar(x - width/2, df['norm_rating'], width, label='Normalized Avg Rating', color='skyblue')\n",
    "plt.bar(x + width/2, df['avg_sentiment'], width, label='Avg Sentiment', color='salmon')\n",
    "\n",
    "# Labels\n",
    "plt.xticks(x, df['sentiment_category'])\n",
    "plt.ylabel('Score (0 to 0.5 scale)')\n",
    "plt.title('Normalized Rating vs Sentiment Score by Industry')\n",
    "plt.legend()\n",
    "plt.grid(axis='y', linestyle='--', alpha=0.5)\n",
    "\n",
    "# Optional annotations\n",
    "for i in x:\n",
    "    plt.text(i - width/2, df['norm_rating'][i] + 0.01, f\"{df['norm_rating'][i]:.2f}\", ha='center', fontsize=8, color='black')\n",
    "    plt.text(i + width/2, df['avg_sentiment'][i] + 0.01, f\"{df['avg_sentiment'][i]:.2f}\", ha='center', fontsize=8, color='black')\n",
    "\n",
    "plt.tight_layout()\n",
    "plt.show()"
   ]
  },
  {
   "cell_type": "code",
   "execution_count": 22,
   "id": "fca5b42d",
   "metadata": {},
   "outputs": [
    {
     "name": "stdout",
     "output_type": "stream",
     "text": [
      " final_data.csv saved successfully!\n"
     ]
    }
   ],
   "source": [
    "import pandas as pd\n",
    "\n",
    "# Manually entering real values derived from your project outputs\n",
    "final_df = pd.DataFrame({\n",
    "    'sentiment_category': ['BUSINESS', 'SCIENCE', 'TECH', 'EDUCATION'],\n",
    "    'avg_rating': [3.908940, 3.872644, 3.778911, 3.703759],\n",
    "    'total_reviews': [626356, 245635, 886731, 59651],\n",
    "    'company_count': [783, 658, 1432, 133],\n",
    "    'avg_sentiment': [0.100178, 0.106908, 0.086490, 0.198597]\n",
    "})\n",
    "\n",
    "# Assign sentiment label based on average sentiment (custom threshold)\n",
    "def get_label(score):\n",
    "    if score > 0.15:\n",
    "        return 'positive'\n",
    "    elif score < 0.05:\n",
    "        return 'negative'\n",
    "    else:\n",
    "        return 'neutral'\n",
    "\n",
    "final_df['sentiment_label'] = final_df['avg_sentiment'].apply(get_label)\n",
    "\n",
    "# Normalize ratings to 0.0–0.5 scale\n",
    "fixed_min = 3.6\n",
    "fixed_max = final_df['avg_rating'].max()\n",
    "final_df['norm_rating'] = ((final_df['avg_rating'] - fixed_min) / (fixed_max - fixed_min) * 0.5).clip(lower=0.01)\n",
    "\n",
    "# Reorder columns\n",
    "final_df = final_df[['sentiment_label', 'sentiment_category', 'avg_sentiment',\n",
    "                     'avg_rating', 'company_count', 'total_reviews', 'norm_rating']]\n",
    "\n",
    "# Save the file\n",
    "final_df.to_csv('final_data.csv', index=False)\n",
    "print(\" final_data.csv saved successfully!\")\n"
   ]
  }
 ],
 "metadata": {
  "kernelspec": {
   "display_name": "Python 3",
   "language": "python",
   "name": "python3"
  },
  "language_info": {
   "codemirror_mode": {
    "name": "ipython",
    "version": 3
   },
   "file_extension": ".py",
   "mimetype": "text/x-python",
   "name": "python",
   "nbconvert_exporter": "python",
   "pygments_lexer": "ipython3",
   "version": "3.12.1"
  }
 },
 "nbformat": 4,
 "nbformat_minor": 5
}
